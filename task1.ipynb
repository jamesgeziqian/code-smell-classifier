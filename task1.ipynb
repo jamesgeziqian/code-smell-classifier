{
 "cells": [
  {
   "cell_type": "code",
   "execution_count": 1,
   "id": "8b88d8e9",
   "metadata": {},
   "outputs": [],
   "source": [
    "import numpy as np\n",
    "import pandas as pd\n",
    "\n",
    "from scipy.io import arff\n",
    "from sklearn import svm, naive_bayes\n",
    "from sklearn.model_selection import train_test_split, GridSearchCV, KFold"
   ]
  },
  {
   "cell_type": "code",
   "execution_count": 2,
   "id": "af1ff2d0",
   "metadata": {},
   "outputs": [],
   "source": [
    "data_class_raw = arff.loadarff('data/data-class.arff')\n",
    "feature_envy_raw = arff.loadarff('data/feature-envy.arff')\n",
    "god_class_raw = arff.loadarff('data/god-class.arff')\n",
    "long_method_raw = arff.loadarff('data/long-method.arff')\n",
    "\n",
    "feature_envy_data = feature_envy_raw[0]\n",
    "god_class_data = god_class_raw[0]\n",
    "long_method_data = long_method_raw[0]\n",
    "\n",
    "data_class_df = pd.DataFrame(data_class_raw[0])\n",
    "feature_envy_df = pd.DataFrame(feature_envy_data).dropna(axis=0)\n",
    "god_class_df = pd.DataFrame(god_class_data).dropna(axis=0)\n",
    "long_method_df = pd.DataFrame(long_method_data).dropna(axis=0)"
   ]
  },
  {
   "cell_type": "code",
   "execution_count": 3,
   "id": "e3884bed",
   "metadata": {},
   "outputs": [
    {
     "data": {
      "text/plain": [
       "(776, 82)"
      ]
     },
     "execution_count": 3,
     "metadata": {},
     "output_type": "execute_result"
    }
   ],
   "source": [
    "feature_envy_df.drop('is_feature_envy', axis=1).to_numpy().shape"
   ]
  },
  {
   "cell_type": "code",
   "execution_count": 4,
   "id": "39bd3c3b",
   "metadata": {},
   "outputs": [
    {
     "data": {
      "text/plain": [
       "0      b'false'\n",
       "1      b'false'\n",
       "2      b'false'\n",
       "3      b'false'\n",
       "4      b'false'\n",
       "         ...   \n",
       "835    b'false'\n",
       "836    b'false'\n",
       "837    b'false'\n",
       "838    b'false'\n",
       "839    b'false'\n",
       "Name: is_feature_envy, Length: 776, dtype: object"
      ]
     },
     "execution_count": 4,
     "metadata": {},
     "output_type": "execute_result"
    }
   ],
   "source": [
    "feature_envy_df.loc[:, 'is_feature_envy']"
   ]
  },
  {
   "cell_type": "code",
   "execution_count": 5,
   "id": "c7f829d4",
   "metadata": {},
   "outputs": [
    {
     "data": {
      "text/plain": [
       "(840, 62)"
      ]
     },
     "execution_count": 5,
     "metadata": {},
     "output_type": "execute_result"
    }
   ],
   "source": [
    "data_class_df.shape"
   ]
  },
  {
   "cell_type": "code",
   "execution_count": 6,
   "id": "80e5c903",
   "metadata": {},
   "outputs": [
    {
     "data": {
      "text/plain": [
       "(776, 83)"
      ]
     },
     "execution_count": 6,
     "metadata": {},
     "output_type": "execute_result"
    }
   ],
   "source": [
    "feature_envy_df.shape"
   ]
  },
  {
   "cell_type": "code",
   "execution_count": 7,
   "id": "10489986",
   "metadata": {},
   "outputs": [
    {
     "data": {
      "text/plain": [
       "(784, 62)"
      ]
     },
     "execution_count": 7,
     "metadata": {},
     "output_type": "execute_result"
    }
   ],
   "source": [
    "god_class_df.shape"
   ]
  },
  {
   "cell_type": "code",
   "execution_count": 8,
   "id": "5842f767",
   "metadata": {},
   "outputs": [
    {
     "data": {
      "text/plain": [
       "(776, 83)"
      ]
     },
     "execution_count": 8,
     "metadata": {},
     "output_type": "execute_result"
    }
   ],
   "source": [
    "long_method_df.shape"
   ]
  },
  {
   "cell_type": "code",
   "execution_count": 9,
   "id": "b63f4a48",
   "metadata": {},
   "outputs": [
    {
     "data": {
      "text/plain": [
       "Index(['NOII_type', 'NOAM_type', 'NOCS_type', 'NOM_type', 'NMO_type',\n",
       "       'ATFD_type', 'FANOUT_type', 'NOMNAMM_type', 'NOA_type', 'NIM_type',\n",
       "       'DIT_type', 'LOC_type', 'LOCNAMM_type', 'CFNAMM_type', 'TCC_type',\n",
       "       'CBO_type', 'RFC_type', 'NOC_type', 'WMC_type', 'LCOM5_type',\n",
       "       'WOC_type', 'WMCNAMM_type', 'AMW_type', 'AMWNAMM_type', 'NOCS_package',\n",
       "       'NOMNAMM_package', 'NOI_package', 'LOC_package', 'NOM_package',\n",
       "       'NOPK_project', 'NOCS_project', 'NOI_project', 'NOM_project',\n",
       "       'NOMNAMM_project', 'LOC_project', 'isStatic_type', 'NOPA_type',\n",
       "       'number_private_visibility_attributes',\n",
       "       'number_protected_visibility_attributes',\n",
       "       'number_package_visibility_attributes', 'num_final_attributes',\n",
       "       'num_static_attributes', 'num_final_static_attributes',\n",
       "       'num_not_final_not_static_attributes',\n",
       "       'num_final_not_static_attributes', 'num_static_not_final_attributes',\n",
       "       'number_public_visibility_methods', 'number_private_visibility_methods',\n",
       "       'number_protected_visibility_methods',\n",
       "       'number_package_visibility_methods', 'number_final_methods',\n",
       "       'number_abstract_methods', 'number_not_abstract_not_final_methods',\n",
       "       'number_static_methods', 'number_final_static_methods',\n",
       "       'number_final_not_static_methods', 'number_not_final_static_methods',\n",
       "       'number_not_final_not_static_methods', 'number_standard_design_methods',\n",
       "       'number_constructor_DefaultConstructor_methods',\n",
       "       'number_constructor_NotDefaultConstructor_methods', 'is_data_class'],\n",
       "      dtype='object')"
      ]
     },
     "execution_count": 9,
     "metadata": {},
     "output_type": "execute_result"
    }
   ],
   "source": [
    "data_class_df.columns"
   ]
  },
  {
   "cell_type": "code",
   "execution_count": 10,
   "id": "9e2bdb4a",
   "metadata": {},
   "outputs": [
    {
     "data": {
      "text/plain": [
       "Index(['NOP_method', 'CC_method', 'ATFD_method', 'FDP_method', 'CM_method',\n",
       "       'MAXNESTING_method', 'LOC_method', 'CYCLO_method', 'NMCS_method',\n",
       "       'NOLV_method', 'MaMCL_method', 'NOAV_method', 'LAA_method',\n",
       "       'FANOUT_method', 'CFNAMM_method', 'ATLD_method', 'CLNAMM_method',\n",
       "       'CINT_method', 'MeMCL_method', 'CDISP_method', 'NOII_type', 'NOAM_type',\n",
       "       'NOCS_type', 'NOM_type', 'NMO_type', 'ATFD_type', 'FANOUT_type',\n",
       "       'NOMNAMM_type', 'NOA_type', 'NIM_type', 'DIT_type', 'LOC_type',\n",
       "       'LOCNAMM_type', 'CFNAMM_type', 'TCC_type', 'NOPA_type', 'CBO_type',\n",
       "       'RFC_type', 'NOC_type', 'WMC_type', 'LCOM5_type', 'WOC_type',\n",
       "       'WMCNAMM_type', 'AMW_type', 'AMWNAMM_type', 'NOCS_package',\n",
       "       'NOMNAMM_package', 'NOI_package', 'LOC_package', 'NOM_package',\n",
       "       'NOPK_project', 'NOCS_project', 'NOI_project', 'NOM_project',\n",
       "       'NOMNAMM_project', 'LOC_project', 'isStatic_type',\n",
       "       'number_private_visibility_attributes',\n",
       "       'number_protected_visibility_attributes',\n",
       "       'number_package_visibility_attributes', 'num_final_attributes',\n",
       "       'num_static_attributes', 'num_final_static_attributes',\n",
       "       'num_not_final_not_static_attributes',\n",
       "       'num_final_not_static_attributes', 'num_static_not_final_attributes',\n",
       "       'number_public_visibility_methods', 'number_private_visibility_methods',\n",
       "       'number_protected_visibility_methods',\n",
       "       'number_package_visibility_methods', 'number_final_methods',\n",
       "       'number_abstract_methods', 'number_not_abstract_not_final_methods',\n",
       "       'number_static_methods', 'number_final_static_methods',\n",
       "       'number_final_not_static_methods', 'number_not_final_static_methods',\n",
       "       'number_not_final_not_static_methods', 'number_standard_design_methods',\n",
       "       'number_constructor_DefaultConstructor_methods',\n",
       "       'number_constructor_NotDefaultConstructor_methods', 'isStatic_method',\n",
       "       'is_feature_envy'],\n",
       "      dtype='object')"
      ]
     },
     "execution_count": 10,
     "metadata": {},
     "output_type": "execute_result"
    }
   ],
   "source": [
    "feature_envy_df.columns"
   ]
  },
  {
   "cell_type": "code",
   "execution_count": null,
   "id": "9ba157e1",
   "metadata": {},
   "outputs": [],
   "source": []
  },
  {
   "cell_type": "code",
   "execution_count": 11,
   "id": "446ec22a",
   "metadata": {},
   "outputs": [
    {
     "data": {
      "text/html": [
       "<div>\n",
       "<style scoped>\n",
       "    .dataframe tbody tr th:only-of-type {\n",
       "        vertical-align: middle;\n",
       "    }\n",
       "\n",
       "    .dataframe tbody tr th {\n",
       "        vertical-align: top;\n",
       "    }\n",
       "\n",
       "    .dataframe thead th {\n",
       "        text-align: right;\n",
       "    }\n",
       "</style>\n",
       "<table border=\"1\" class=\"dataframe\">\n",
       "  <thead>\n",
       "    <tr style=\"text-align: right;\">\n",
       "      <th></th>\n",
       "      <th>NOII_type</th>\n",
       "      <th>NOAM_type</th>\n",
       "      <th>NOCS_type</th>\n",
       "      <th>NOM_type</th>\n",
       "      <th>NMO_type</th>\n",
       "      <th>ATFD_type</th>\n",
       "      <th>FANOUT_type</th>\n",
       "      <th>NOMNAMM_type</th>\n",
       "      <th>NOA_type</th>\n",
       "      <th>NIM_type</th>\n",
       "      <th>...</th>\n",
       "      <th>number_not_abstract_not_final_methods</th>\n",
       "      <th>number_static_methods</th>\n",
       "      <th>number_final_static_methods</th>\n",
       "      <th>number_final_not_static_methods</th>\n",
       "      <th>number_not_final_static_methods</th>\n",
       "      <th>number_not_final_not_static_methods</th>\n",
       "      <th>number_standard_design_methods</th>\n",
       "      <th>number_constructor_DefaultConstructor_methods</th>\n",
       "      <th>number_constructor_NotDefaultConstructor_methods</th>\n",
       "      <th>is_data_class</th>\n",
       "    </tr>\n",
       "  </thead>\n",
       "  <tbody>\n",
       "    <tr>\n",
       "      <th>0</th>\n",
       "      <td>0.0</td>\n",
       "      <td>0.0</td>\n",
       "      <td>0.0</td>\n",
       "      <td>6.0</td>\n",
       "      <td>0.0</td>\n",
       "      <td>3.0</td>\n",
       "      <td>1.0</td>\n",
       "      <td>6.0</td>\n",
       "      <td>2.0</td>\n",
       "      <td>32.0</td>\n",
       "      <td>...</td>\n",
       "      <td>6.0</td>\n",
       "      <td>0.0</td>\n",
       "      <td>0.0</td>\n",
       "      <td>0.0</td>\n",
       "      <td>0.0</td>\n",
       "      <td>6.0</td>\n",
       "      <td>6.0</td>\n",
       "      <td>0.0</td>\n",
       "      <td>0.0</td>\n",
       "      <td>b'false'</td>\n",
       "    </tr>\n",
       "    <tr>\n",
       "      <th>1</th>\n",
       "      <td>0.0</td>\n",
       "      <td>0.0</td>\n",
       "      <td>0.0</td>\n",
       "      <td>2.0</td>\n",
       "      <td>2.0</td>\n",
       "      <td>0.0</td>\n",
       "      <td>0.0</td>\n",
       "      <td>2.0</td>\n",
       "      <td>4.0</td>\n",
       "      <td>30.0</td>\n",
       "      <td>...</td>\n",
       "      <td>2.0</td>\n",
       "      <td>0.0</td>\n",
       "      <td>0.0</td>\n",
       "      <td>0.0</td>\n",
       "      <td>0.0</td>\n",
       "      <td>2.0</td>\n",
       "      <td>2.0</td>\n",
       "      <td>0.0</td>\n",
       "      <td>0.0</td>\n",
       "      <td>b'false'</td>\n",
       "    </tr>\n",
       "    <tr>\n",
       "      <th>2</th>\n",
       "      <td>0.0</td>\n",
       "      <td>0.0</td>\n",
       "      <td>0.0</td>\n",
       "      <td>7.0</td>\n",
       "      <td>0.0</td>\n",
       "      <td>2.0</td>\n",
       "      <td>1.0</td>\n",
       "      <td>7.0</td>\n",
       "      <td>3.0</td>\n",
       "      <td>32.0</td>\n",
       "      <td>...</td>\n",
       "      <td>7.0</td>\n",
       "      <td>0.0</td>\n",
       "      <td>0.0</td>\n",
       "      <td>0.0</td>\n",
       "      <td>0.0</td>\n",
       "      <td>7.0</td>\n",
       "      <td>7.0</td>\n",
       "      <td>0.0</td>\n",
       "      <td>0.0</td>\n",
       "      <td>b'false'</td>\n",
       "    </tr>\n",
       "    <tr>\n",
       "      <th>3</th>\n",
       "      <td>0.0</td>\n",
       "      <td>0.0</td>\n",
       "      <td>0.0</td>\n",
       "      <td>1.0</td>\n",
       "      <td>0.0</td>\n",
       "      <td>0.0</td>\n",
       "      <td>0.0</td>\n",
       "      <td>1.0</td>\n",
       "      <td>2.0</td>\n",
       "      <td>32.0</td>\n",
       "      <td>...</td>\n",
       "      <td>1.0</td>\n",
       "      <td>0.0</td>\n",
       "      <td>0.0</td>\n",
       "      <td>0.0</td>\n",
       "      <td>0.0</td>\n",
       "      <td>1.0</td>\n",
       "      <td>1.0</td>\n",
       "      <td>0.0</td>\n",
       "      <td>0.0</td>\n",
       "      <td>b'false'</td>\n",
       "    </tr>\n",
       "    <tr>\n",
       "      <th>4</th>\n",
       "      <td>0.0</td>\n",
       "      <td>0.0</td>\n",
       "      <td>0.0</td>\n",
       "      <td>4.0</td>\n",
       "      <td>0.0</td>\n",
       "      <td>0.0</td>\n",
       "      <td>2.0</td>\n",
       "      <td>4.0</td>\n",
       "      <td>1.0</td>\n",
       "      <td>32.0</td>\n",
       "      <td>...</td>\n",
       "      <td>4.0</td>\n",
       "      <td>0.0</td>\n",
       "      <td>0.0</td>\n",
       "      <td>0.0</td>\n",
       "      <td>0.0</td>\n",
       "      <td>4.0</td>\n",
       "      <td>4.0</td>\n",
       "      <td>0.0</td>\n",
       "      <td>0.0</td>\n",
       "      <td>b'false'</td>\n",
       "    </tr>\n",
       "    <tr>\n",
       "      <th>...</th>\n",
       "      <td>...</td>\n",
       "      <td>...</td>\n",
       "      <td>...</td>\n",
       "      <td>...</td>\n",
       "      <td>...</td>\n",
       "      <td>...</td>\n",
       "      <td>...</td>\n",
       "      <td>...</td>\n",
       "      <td>...</td>\n",
       "      <td>...</td>\n",
       "      <td>...</td>\n",
       "      <td>...</td>\n",
       "      <td>...</td>\n",
       "      <td>...</td>\n",
       "      <td>...</td>\n",
       "      <td>...</td>\n",
       "      <td>...</td>\n",
       "      <td>...</td>\n",
       "      <td>...</td>\n",
       "      <td>...</td>\n",
       "      <td>...</td>\n",
       "    </tr>\n",
       "    <tr>\n",
       "      <th>835</th>\n",
       "      <td>0.0</td>\n",
       "      <td>0.0</td>\n",
       "      <td>0.0</td>\n",
       "      <td>1.0</td>\n",
       "      <td>0.0</td>\n",
       "      <td>0.0</td>\n",
       "      <td>0.0</td>\n",
       "      <td>1.0</td>\n",
       "      <td>3.0</td>\n",
       "      <td>0.0</td>\n",
       "      <td>...</td>\n",
       "      <td>1.0</td>\n",
       "      <td>0.0</td>\n",
       "      <td>0.0</td>\n",
       "      <td>0.0</td>\n",
       "      <td>0.0</td>\n",
       "      <td>1.0</td>\n",
       "      <td>0.0</td>\n",
       "      <td>0.0</td>\n",
       "      <td>1.0</td>\n",
       "      <td>b'false'</td>\n",
       "    </tr>\n",
       "    <tr>\n",
       "      <th>836</th>\n",
       "      <td>1.0</td>\n",
       "      <td>1.0</td>\n",
       "      <td>0.0</td>\n",
       "      <td>395.0</td>\n",
       "      <td>0.0</td>\n",
       "      <td>44.0</td>\n",
       "      <td>77.0</td>\n",
       "      <td>394.0</td>\n",
       "      <td>142.0</td>\n",
       "      <td>0.0</td>\n",
       "      <td>...</td>\n",
       "      <td>394.0</td>\n",
       "      <td>387.0</td>\n",
       "      <td>1.0</td>\n",
       "      <td>0.0</td>\n",
       "      <td>386.0</td>\n",
       "      <td>8.0</td>\n",
       "      <td>392.0</td>\n",
       "      <td>0.0</td>\n",
       "      <td>2.0</td>\n",
       "      <td>b'false'</td>\n",
       "    </tr>\n",
       "    <tr>\n",
       "      <th>837</th>\n",
       "      <td>0.0</td>\n",
       "      <td>0.0</td>\n",
       "      <td>0.0</td>\n",
       "      <td>1.0</td>\n",
       "      <td>0.0</td>\n",
       "      <td>0.0</td>\n",
       "      <td>0.0</td>\n",
       "      <td>1.0</td>\n",
       "      <td>0.0</td>\n",
       "      <td>15.0</td>\n",
       "      <td>...</td>\n",
       "      <td>1.0</td>\n",
       "      <td>0.0</td>\n",
       "      <td>0.0</td>\n",
       "      <td>0.0</td>\n",
       "      <td>0.0</td>\n",
       "      <td>1.0</td>\n",
       "      <td>0.0</td>\n",
       "      <td>0.0</td>\n",
       "      <td>1.0</td>\n",
       "      <td>b'false'</td>\n",
       "    </tr>\n",
       "    <tr>\n",
       "      <th>838</th>\n",
       "      <td>0.0</td>\n",
       "      <td>0.0</td>\n",
       "      <td>0.0</td>\n",
       "      <td>4.0</td>\n",
       "      <td>0.0</td>\n",
       "      <td>0.0</td>\n",
       "      <td>0.0</td>\n",
       "      <td>4.0</td>\n",
       "      <td>0.0</td>\n",
       "      <td>15.0</td>\n",
       "      <td>...</td>\n",
       "      <td>4.0</td>\n",
       "      <td>0.0</td>\n",
       "      <td>0.0</td>\n",
       "      <td>0.0</td>\n",
       "      <td>0.0</td>\n",
       "      <td>4.0</td>\n",
       "      <td>0.0</td>\n",
       "      <td>0.0</td>\n",
       "      <td>4.0</td>\n",
       "      <td>b'false'</td>\n",
       "    </tr>\n",
       "    <tr>\n",
       "      <th>839</th>\n",
       "      <td>0.0</td>\n",
       "      <td>8.0</td>\n",
       "      <td>0.0</td>\n",
       "      <td>34.0</td>\n",
       "      <td>0.0</td>\n",
       "      <td>86.0</td>\n",
       "      <td>50.0</td>\n",
       "      <td>26.0</td>\n",
       "      <td>11.0</td>\n",
       "      <td>0.0</td>\n",
       "      <td>...</td>\n",
       "      <td>34.0</td>\n",
       "      <td>0.0</td>\n",
       "      <td>0.0</td>\n",
       "      <td>0.0</td>\n",
       "      <td>0.0</td>\n",
       "      <td>34.0</td>\n",
       "      <td>23.0</td>\n",
       "      <td>0.0</td>\n",
       "      <td>3.0</td>\n",
       "      <td>b'false'</td>\n",
       "    </tr>\n",
       "  </tbody>\n",
       "</table>\n",
       "<p>784 rows × 62 columns</p>\n",
       "</div>"
      ],
      "text/plain": [
       "     NOII_type  NOAM_type  NOCS_type  NOM_type  NMO_type  ATFD_type  \\\n",
       "0          0.0        0.0        0.0       6.0       0.0        3.0   \n",
       "1          0.0        0.0        0.0       2.0       2.0        0.0   \n",
       "2          0.0        0.0        0.0       7.0       0.0        2.0   \n",
       "3          0.0        0.0        0.0       1.0       0.0        0.0   \n",
       "4          0.0        0.0        0.0       4.0       0.0        0.0   \n",
       "..         ...        ...        ...       ...       ...        ...   \n",
       "835        0.0        0.0        0.0       1.0       0.0        0.0   \n",
       "836        1.0        1.0        0.0     395.0       0.0       44.0   \n",
       "837        0.0        0.0        0.0       1.0       0.0        0.0   \n",
       "838        0.0        0.0        0.0       4.0       0.0        0.0   \n",
       "839        0.0        8.0        0.0      34.0       0.0       86.0   \n",
       "\n",
       "     FANOUT_type  NOMNAMM_type  NOA_type  NIM_type  ...  \\\n",
       "0            1.0           6.0       2.0      32.0  ...   \n",
       "1            0.0           2.0       4.0      30.0  ...   \n",
       "2            1.0           7.0       3.0      32.0  ...   \n",
       "3            0.0           1.0       2.0      32.0  ...   \n",
       "4            2.0           4.0       1.0      32.0  ...   \n",
       "..           ...           ...       ...       ...  ...   \n",
       "835          0.0           1.0       3.0       0.0  ...   \n",
       "836         77.0         394.0     142.0       0.0  ...   \n",
       "837          0.0           1.0       0.0      15.0  ...   \n",
       "838          0.0           4.0       0.0      15.0  ...   \n",
       "839         50.0          26.0      11.0       0.0  ...   \n",
       "\n",
       "     number_not_abstract_not_final_methods  number_static_methods  \\\n",
       "0                                      6.0                    0.0   \n",
       "1                                      2.0                    0.0   \n",
       "2                                      7.0                    0.0   \n",
       "3                                      1.0                    0.0   \n",
       "4                                      4.0                    0.0   \n",
       "..                                     ...                    ...   \n",
       "835                                    1.0                    0.0   \n",
       "836                                  394.0                  387.0   \n",
       "837                                    1.0                    0.0   \n",
       "838                                    4.0                    0.0   \n",
       "839                                   34.0                    0.0   \n",
       "\n",
       "     number_final_static_methods  number_final_not_static_methods  \\\n",
       "0                            0.0                              0.0   \n",
       "1                            0.0                              0.0   \n",
       "2                            0.0                              0.0   \n",
       "3                            0.0                              0.0   \n",
       "4                            0.0                              0.0   \n",
       "..                           ...                              ...   \n",
       "835                          0.0                              0.0   \n",
       "836                          1.0                              0.0   \n",
       "837                          0.0                              0.0   \n",
       "838                          0.0                              0.0   \n",
       "839                          0.0                              0.0   \n",
       "\n",
       "     number_not_final_static_methods  number_not_final_not_static_methods  \\\n",
       "0                                0.0                                  6.0   \n",
       "1                                0.0                                  2.0   \n",
       "2                                0.0                                  7.0   \n",
       "3                                0.0                                  1.0   \n",
       "4                                0.0                                  4.0   \n",
       "..                               ...                                  ...   \n",
       "835                              0.0                                  1.0   \n",
       "836                            386.0                                  8.0   \n",
       "837                              0.0                                  1.0   \n",
       "838                              0.0                                  4.0   \n",
       "839                              0.0                                 34.0   \n",
       "\n",
       "     number_standard_design_methods  \\\n",
       "0                               6.0   \n",
       "1                               2.0   \n",
       "2                               7.0   \n",
       "3                               1.0   \n",
       "4                               4.0   \n",
       "..                              ...   \n",
       "835                             0.0   \n",
       "836                           392.0   \n",
       "837                             0.0   \n",
       "838                             0.0   \n",
       "839                            23.0   \n",
       "\n",
       "     number_constructor_DefaultConstructor_methods  \\\n",
       "0                                              0.0   \n",
       "1                                              0.0   \n",
       "2                                              0.0   \n",
       "3                                              0.0   \n",
       "4                                              0.0   \n",
       "..                                             ...   \n",
       "835                                            0.0   \n",
       "836                                            0.0   \n",
       "837                                            0.0   \n",
       "838                                            0.0   \n",
       "839                                            0.0   \n",
       "\n",
       "     number_constructor_NotDefaultConstructor_methods  is_data_class  \n",
       "0                                                 0.0       b'false'  \n",
       "1                                                 0.0       b'false'  \n",
       "2                                                 0.0       b'false'  \n",
       "3                                                 0.0       b'false'  \n",
       "4                                                 0.0       b'false'  \n",
       "..                                                ...            ...  \n",
       "835                                               1.0       b'false'  \n",
       "836                                               2.0       b'false'  \n",
       "837                                               1.0       b'false'  \n",
       "838                                               4.0       b'false'  \n",
       "839                                               3.0       b'false'  \n",
       "\n",
       "[784 rows x 62 columns]"
      ]
     },
     "execution_count": 11,
     "metadata": {},
     "output_type": "execute_result"
    }
   ],
   "source": [
    "data_class_df.dropna(axis=0)"
   ]
  },
  {
   "cell_type": "code",
   "execution_count": 12,
   "id": "5f58f693",
   "metadata": {},
   "outputs": [],
   "source": [
    "def cast_byte_to_bool(y):\n",
    "    return [yy == b'true' for yy in y]"
   ]
  },
  {
   "cell_type": "code",
   "execution_count": 13,
   "id": "2f7759e6",
   "metadata": {},
   "outputs": [],
   "source": [
    "X_train_fe, X_test_fe, y_train_fe, y_test_fe = train_test_split(\n",
    "    feature_envy_df.drop('is_feature_envy', axis=1).to_numpy(),\n",
    "    cast_byte_to_bool(feature_envy_df.loc[:, 'is_feature_envy'].to_numpy()),\n",
    "    test_size=0.2, random_state=1)"
   ]
  },
  {
   "cell_type": "code",
   "execution_count": 23,
   "id": "7d6b4d96",
   "metadata": {},
   "outputs": [
    {
     "name": "stdout",
     "output_type": "stream",
     "text": [
      "0.8397435897435898\n"
     ]
    }
   ],
   "source": [
    "svc = svm.SVC()\n",
    "svc.fit(X_train_fe, y_train_fe)\n",
    "print(svc.score(X_test_fe, y_test_fe))"
   ]
  },
  {
   "cell_type": "code",
   "execution_count": 17,
   "id": "0009a1b9",
   "metadata": {},
   "outputs": [
    {
     "name": "stdout",
     "output_type": "stream",
     "text": [
      "0.6858974358974359\n"
     ]
    }
   ],
   "source": [
    "svc = svm.SVC(kernel='sigmoid', degree=5)\n",
    "svc.fit(X_train_fe, y_train_fe)\n",
    "print(svc.score(X_test_fe, y_test_fe))"
   ]
  },
  {
   "cell_type": "code",
   "execution_count": 28,
   "id": "2c7885c9",
   "metadata": {},
   "outputs": [
    {
     "name": "stdout",
     "output_type": "stream",
     "text": [
      "Best score: 0.8338709677419356\n",
      "Best params:\n",
      "{'C': 1, 'degree': 1, 'kernel': 'poly'}\n"
     ]
    }
   ],
   "source": [
    "svc = svm.SVC()\n",
    "clf = GridSearchCV(svc, param_grid={\n",
    "    'C': [1, 10],\n",
    "    'kernel': ['poly', 'rbf', 'sigmoid'],\n",
    "    'degree': list(range(1, 5)),\n",
    "}, n_jobs=-1)\n",
    "clf.fit(X_train_fe, y_train_fe)\n",
    "print(f'Best score: {clf.best_score_}')\n",
    "print('Best params:')\n",
    "print(clf.best_params_)"
   ]
  },
  {
   "cell_type": "code",
   "execution_count": 29,
   "id": "c6dd1620",
   "metadata": {},
   "outputs": [
    {
     "data": {
      "text/plain": [
       "0.8397435897435898"
      ]
     },
     "execution_count": 29,
     "metadata": {},
     "output_type": "execute_result"
    }
   ],
   "source": [
    "clf.score(X_test_fe, y_test_fe)    "
   ]
  },
  {
   "cell_type": "code",
   "execution_count": 33,
   "id": "2d3c96bb",
   "metadata": {},
   "outputs": [
    {
     "name": "stdout",
     "output_type": "stream",
     "text": [
      "Test score: 0.7948717948717948\n"
     ]
    }
   ],
   "source": [
    "nb = naive_bayes.GaussianNB()\n",
    "nb.fit(X_train_fe, y_train_fe)\n",
    "print(f'Test score: {nb.score(X_test_fe, y_test_fe)}')"
   ]
  },
  {
   "cell_type": "code",
   "execution_count": 40,
   "id": "46bb790e",
   "metadata": {},
   "outputs": [
    {
     "data": {
      "text/plain": [
       "False    156\n",
       "dtype: int64"
      ]
     },
     "execution_count": 40,
     "metadata": {},
     "output_type": "execute_result"
    }
   ],
   "source": [
    "pd.Series(clf.predict(X_test_fe)).value_counts()"
   ]
  },
  {
   "cell_type": "code",
   "execution_count": 36,
   "id": "d4948a10",
   "metadata": {},
   "outputs": [
    {
     "data": {
      "text/plain": [
       "0.052894888321558635"
      ]
     },
     "execution_count": 36,
     "metadata": {},
     "output_type": "execute_result"
    }
   ],
   "source": [
    "np.mean(clf.cv_results_['mean_fit_time'])\n"
   ]
  },
  {
   "cell_type": "code",
   "execution_count": 39,
   "id": "906cbab6",
   "metadata": {},
   "outputs": [
    {
     "name": "stdout",
     "output_type": "stream",
     "text": [
      "b'false'    700\n",
      "b'true'     140\n",
      "Name: is_data_class, dtype: int64\n",
      "b'false'    648\n",
      "b'true'     128\n",
      "Name: is_feature_envy, dtype: int64\n",
      "b'false'    654\n",
      "b'true'     130\n",
      "Name: is_god_class, dtype: int64\n",
      "b'false'    647\n",
      "b'true'     129\n",
      "Name: is_long_method, dtype: int64\n"
     ]
    }
   ],
   "source": [
    "# feature_envy_df.loc[:, 'is_feature_envy'].count()\n",
    "print(data_class_df.is_data_class.value_counts())\n",
    "print(feature_envy_df.is_feature_envy.value_counts())\n",
    "print(god_class_df.is_god_class.value_counts())\n",
    "print(long_method_df.is_long_method.value_counts())\n"
   ]
  }
 ],
 "metadata": {
  "kernelspec": {
   "display_name": "Python 3 (ipykernel)",
   "language": "python",
   "name": "python3"
  },
  "language_info": {
   "codemirror_mode": {
    "name": "ipython",
    "version": 3
   },
   "file_extension": ".py",
   "mimetype": "text/x-python",
   "name": "python",
   "nbconvert_exporter": "python",
   "pygments_lexer": "ipython3",
   "version": "3.8.10"
  }
 },
 "nbformat": 4,
 "nbformat_minor": 5
}
